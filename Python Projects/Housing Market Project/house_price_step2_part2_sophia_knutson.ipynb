{
 "cells": [
  {
   "cell_type": "code",
   "execution_count": 1,
   "id": "a9d34a2d",
   "metadata": {},
   "outputs": [],
   "source": [
    "import numpy as np\n",
    "import pandas as pd\n",
    "import matplotlib.pyplot as plt\n",
    "from sklearn.neighbors import KNeighborsRegressor\n",
    "from sklearn.linear_model import LinearRegression\n",
    "from sklearn.tree import DecisionTreeRegressor\n",
    "from sklearn.ensemble import RandomForestRegressor\n",
    "from sklearn.metrics import mean_squared_error, mean_absolute_error, mean_absolute_percentage_error"
   ]
  },
  {
   "cell_type": "code",
   "execution_count": 2,
   "id": "2afe5e93",
   "metadata": {},
   "outputs": [],
   "source": [
    "train_data = pd.read_csv('housing_train_clean.csv') \n",
    "\n",
    "X_train = train_data.drop('SalePrice', axis=1)  # Drops the SalePrice column\n",
    "Y_train = train_data[['SalePrice']]  # Keeps only the SalePrice column\n",
    "\n",
    "test_data = pd.read_csv('housing_test_clean.csv')  \n",
    "\n",
    "X_test = test_data.drop('SalePrice', axis=1)  # Drops the SalePrice column\n",
    "Y_test = test_data[['SalePrice']]  # Keeps only the SalePrice column"
   ]
  },
  {
   "cell_type": "code",
   "execution_count": 3,
   "id": "5d32d316",
   "metadata": {},
   "outputs": [],
   "source": [
    "X_train=X_train.values \n",
    "Y_train=Y_train.values.reshape(-1) \n",
    "\n",
    "X_test=X_test.values \n",
    "Y_test=Y_test.values.reshape(-1)"
   ]
  },
  {
   "cell_type": "code",
   "execution_count": 4,
   "id": "db3648b2",
   "metadata": {},
   "outputs": [],
   "source": [
    "from sklearn.model_selection import GridSearchCV"
   ]
  },
  {
   "cell_type": "code",
   "execution_count": 5,
   "id": "88083e68",
   "metadata": {},
   "outputs": [],
   "source": [
    "from sklearn.preprocessing import MinMaxScaler\n",
    "\n",
    "scaler = MinMaxScaler()\n",
    "X_train_scaled = scaler.fit_transform(X_train)\n",
    "X_test_scaled = scaler.transform(X_test)"
   ]
  },
  {
   "cell_type": "code",
   "execution_count": 6,
   "id": "4c1bb57a",
   "metadata": {},
   "outputs": [],
   "source": [
    "param_range = list(range(1, 101, 10))"
   ]
  },
  {
   "cell_type": "code",
   "execution_count": 7,
   "id": "dcdc3382",
   "metadata": {},
   "outputs": [],
   "source": [
    "def perform_grid_search(estimator, param_grid, X, y):\n",
    "    grid_search = GridSearchCV(estimator=estimator, param_grid=param_grid, cv=5, scoring='neg_mean_squared_error')\n",
    "    grid_search.fit(X, y)\n",
    "    return grid_search.best_params_, grid_search.best_score_\n"
   ]
  },
  {
   "cell_type": "code",
   "execution_count": 8,
   "id": "251c3414",
   "metadata": {},
   "outputs": [],
   "source": [
    "knn_params = {'n_neighbors': param_range}\n",
    "knn_best_params, knn_best_score = perform_grid_search(KNeighborsRegressor(), knn_params, X_train_scaled, Y_train)\n",
    "\n",
    "# DecisionTreeRegressor\n",
    "dt_params = {'max_depth': param_range}\n",
    "dt_best_params, dt_best_score = perform_grid_search(DecisionTreeRegressor(random_state=0), dt_params, X_train_scaled, Y_train)\n",
    "\n",
    "# RandomForestRegressor\n",
    "rf_params = {'max_depth': param_range}\n",
    "rf_best_params, rf_best_score = perform_grid_search(RandomForestRegressor(random_state=0), rf_params, X_train_scaled, Y_train)\n"
   ]
  },
  {
   "cell_type": "code",
   "execution_count": 9,
   "id": "219c1b41",
   "metadata": {},
   "outputs": [],
   "source": [
    "def evaluate_model(model, X_train, y_train, X_test, y_test):\n",
    "    model.fit(X_train, y_train)\n",
    "    predictions = model.predict(X_test)\n",
    "    mse = mean_squared_error(y_test, predictions)\n",
    "    mae = mean_absolute_error(y_test, predictions)\n",
    "    mape = mean_absolute_percentage_error(y_test, predictions)\n",
    "    return mse, mae, mape\n",
    "\n",
    "# Evaluate each model\n",
    "knn_model = KNeighborsRegressor(n_neighbors=knn_best_params['n_neighbors'])\n",
    "knn_metrics = evaluate_model(knn_model, X_train_scaled, Y_train, X_test_scaled, Y_test)\n",
    "\n",
    "dt_model = DecisionTreeRegressor(max_depth=dt_best_params['max_depth'],random_state=0)\n",
    "dt_metrics = evaluate_model(dt_model, X_train_scaled, Y_train, X_test_scaled, Y_test)\n",
    "\n",
    "rf_model = RandomForestRegressor(max_depth=rf_best_params['max_depth'],random_state=0)\n",
    "rf_metrics = evaluate_model(rf_model, X_train_scaled, Y_train, X_test_scaled, Y_test)"
   ]
  },
  {
   "cell_type": "code",
   "execution_count": 10,
   "id": "9829800b",
   "metadata": {},
   "outputs": [],
   "source": [
    "results_df = pd.DataFrame({\n",
    "    '': ['KNeighborsRegressor', 'DecisionTreeRegressor', 'RandomForestRegressor'],\n",
    "    'MSE': [knn_metrics[0], dt_metrics[0], rf_metrics[0]],\n",
    "    'MAE': [knn_metrics[1], dt_metrics[1], rf_metrics[1]],\n",
    "    'MAPE': [knn_metrics[2], dt_metrics[2], rf_metrics[2]]\n",
    "})"
   ]
  },
  {
   "cell_type": "code",
   "execution_count": 11,
   "id": "07a86a78",
   "metadata": {},
   "outputs": [
    {
     "data": {
      "text/html": [
       "<div>\n",
       "<style scoped>\n",
       "    .dataframe tbody tr th:only-of-type {\n",
       "        vertical-align: middle;\n",
       "    }\n",
       "\n",
       "    .dataframe tbody tr th {\n",
       "        vertical-align: top;\n",
       "    }\n",
       "\n",
       "    .dataframe thead th {\n",
       "        text-align: right;\n",
       "    }\n",
       "</style>\n",
       "<table border=\"1\" class=\"dataframe\">\n",
       "  <thead>\n",
       "    <tr style=\"text-align: right;\">\n",
       "      <th></th>\n",
       "      <th>KNeighborsRegressor</th>\n",
       "      <th>DecisionTreeRegressor</th>\n",
       "      <th>RandomForestRegressor</th>\n",
       "    </tr>\n",
       "  </thead>\n",
       "  <tbody>\n",
       "    <tr>\n",
       "      <th>MSE</th>\n",
       "      <td>1.362214e+09</td>\n",
       "      <td>1.177341e+09</td>\n",
       "      <td>6.203765e+08</td>\n",
       "    </tr>\n",
       "    <tr>\n",
       "      <th>MAE</th>\n",
       "      <td>2.252575e+04</td>\n",
       "      <td>1.980476e+04</td>\n",
       "      <td>1.081493e+04</td>\n",
       "    </tr>\n",
       "    <tr>\n",
       "      <th>MAPE</th>\n",
       "      <td>1.270808e-01</td>\n",
       "      <td>1.100841e-01</td>\n",
       "      <td>6.108037e-02</td>\n",
       "    </tr>\n",
       "  </tbody>\n",
       "</table>\n",
       "</div>"
      ],
      "text/plain": [
       "      KNeighborsRegressor  DecisionTreeRegressor  RandomForestRegressor\n",
       "MSE          1.362214e+09           1.177341e+09           6.203765e+08\n",
       "MAE          2.252575e+04           1.980476e+04           1.081493e+04\n",
       "MAPE         1.270808e-01           1.100841e-01           6.108037e-02"
      ]
     },
     "execution_count": 11,
     "metadata": {},
     "output_type": "execute_result"
    }
   ],
   "source": [
    "results_df_transposed = results_df.set_index('').T \n",
    "results_df_transposed"
   ]
  },
  {
   "cell_type": "code",
   "execution_count": null,
   "id": "c01bd5f3",
   "metadata": {},
   "outputs": [],
   "source": []
  }
 ],
 "metadata": {
  "kernelspec": {
   "display_name": "Python 3 (ipykernel)",
   "language": "python",
   "name": "python3"
  },
  "language_info": {
   "codemirror_mode": {
    "name": "ipython",
    "version": 3
   },
   "file_extension": ".py",
   "mimetype": "text/x-python",
   "name": "python",
   "nbconvert_exporter": "python",
   "pygments_lexer": "ipython3",
   "version": "3.11.4"
  }
 },
 "nbformat": 4,
 "nbformat_minor": 5
}
