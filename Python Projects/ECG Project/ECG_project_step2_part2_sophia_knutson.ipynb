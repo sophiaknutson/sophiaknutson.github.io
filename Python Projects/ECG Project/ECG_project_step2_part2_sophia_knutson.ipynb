{
 "cells": [
  {
   "cell_type": "code",
   "execution_count": 1,
   "id": "d87a025b",
   "metadata": {},
   "outputs": [],
   "source": [
    "import pandas as pd\n",
    "from sklearn.model_selection import train_test_split, GridSearchCV\n",
    "from sklearn.neighbors import KNeighborsClassifier\n",
    "from sklearn.tree import DecisionTreeClassifier\n",
    "from sklearn.ensemble import RandomForestClassifier\n",
    "from sklearn.metrics import accuracy_score\n",
    "import numpy as np"
   ]
  },
  {
   "cell_type": "code",
   "execution_count": 2,
   "id": "721958a2",
   "metadata": {},
   "outputs": [
    {
     "data": {
      "text/plain": [
       "((3072, 187), (3072, 1), (769, 187), (769, 1))"
      ]
     },
     "execution_count": 2,
     "metadata": {},
     "output_type": "execute_result"
    }
   ],
   "source": [
    "X = pd.read_csv('ECG_dataX.csv')\n",
    "Y = pd.read_csv('ECG_dataY.csv')\n",
    "\n",
    "# Splitting the data\n",
    "X_train, X_test, Y_train, Y_test = train_test_split(X, Y, test_size=0.2, random_state=0)\n",
    "\n",
    "# Verifying the shapes of the splits\n",
    "X_train.shape, Y_train.shape, X_test.shape, Y_test.shape"
   ]
  },
  {
   "cell_type": "code",
   "execution_count": 3,
   "id": "0e6c21d7",
   "metadata": {},
   "outputs": [],
   "source": [
    "X_train = np.ascontiguousarray(X_train.to_numpy().astype('float32'))\n",
    "X_test = np.ascontiguousarray(X_test.to_numpy().astype('float32'))\n",
    "Y_train = Y_train.values.ravel()\n",
    "Y_test = Y_test.values.ravel()\n",
    "\n",
    "param_grid_knn = {'n_neighbors': list(range(1, 31))}\n",
    "param_grid_dt = {'max_depth': list(range(1, 21))}\n",
    "param_grid_rf = {'max_depth': list(range(1, 21))}"
   ]
  },
  {
   "cell_type": "code",
   "execution_count": 4,
   "id": "8e60a279",
   "metadata": {},
   "outputs": [],
   "source": [
    "# Initialize GridSearchCV for each classifier\n",
    "\n",
    "grid_search_knn = GridSearchCV(KNeighborsClassifier(), param_grid_knn, cv=5,)\n",
    "grid_search_dt = GridSearchCV(DecisionTreeClassifier(random_state=0), param_grid_dt, cv=5,)\n",
    "grid_search_rf = GridSearchCV(RandomForestClassifier(random_state=0), param_grid_rf, cv=5,)\n"
   ]
  },
  {
   "cell_type": "code",
   "execution_count": 5,
   "id": "d4dea195",
   "metadata": {},
   "outputs": [],
   "source": [
    "# List of grid searches for ease of iteration\n",
    "grid_searches = [('KNeighbors', grid_search_knn),\n",
    "                 ('DecisionTree', grid_search_dt),\n",
    "                 ('RandomForest', grid_search_rf)]"
   ]
  },
  {
   "cell_type": "code",
   "execution_count": 6,
   "id": "7d85fa89",
   "metadata": {},
   "outputs": [],
   "source": [
    "# Prepare a dictionary to store accuracies and best parameters\n",
    "results = {\n",
    "    ' ': [],\n",
    "    'Training Accuracy': [],\n",
    "    'Test Accuracy': []\n",
    "}"
   ]
  },
  {
   "cell_type": "code",
   "execution_count": 7,
   "id": "8742a974",
   "metadata": {},
   "outputs": [
    {
     "name": "stdout",
     "output_type": "stream",
     "text": [
      "KNeighbors done\n",
      "DecisionTree done\n",
      "RandomForest done\n"
     ]
    }
   ],
   "source": [
    "# Perform grid search and evaluate each classifier\n",
    "for name, grid_search in grid_searches:\n",
    "    # Fit the grid search to the data\n",
    "    grid_search.fit(X_train, Y_train)\n",
    "    \n",
    "    # Get the best estimator and parameters\n",
    "    best_estimator = grid_search.best_estimator_\n",
    "    best_param = grid_search.best_params_\n",
    "    \n",
    "    # Predict on training set and test set using the best estimator\n",
    "    Y_train_pred = best_estimator.predict(X_train)\n",
    "    Y_test_pred = best_estimator.predict(X_test)\n",
    "    \n",
    "    # Calculate accuracies\n",
    "    train_accuracy = accuracy_score(Y_train, Y_train_pred)\n",
    "    test_accuracy = accuracy_score(Y_test, Y_test_pred)\n",
    "    print(f'{name} done')\n",
    "    # Append the results to the dictionary\n",
    "    results[' '].append(name)\n",
    "   # results['Best Parameter'].append(best_param)\n",
    "    results['Training Accuracy'].append(train_accuracy)\n",
    "    results['Test Accuracy'].append(test_accuracy)"
   ]
  },
  {
   "cell_type": "markdown",
   "id": "9095fe55",
   "metadata": {},
   "source": [
    "#results_df = pd.DataFrame(results)\n",
    "#results_df\n",
    "for key, value in results.items():\n",
    "    print(f\"Length of {key}: {len(value)}\")\n"
   ]
  },
  {
   "cell_type": "code",
   "execution_count": 9,
   "id": "6547b671",
   "metadata": {},
   "outputs": [
    {
     "data": {
      "text/html": [
       "<div>\n",
       "<style scoped>\n",
       "    .dataframe tbody tr th:only-of-type {\n",
       "        vertical-align: middle;\n",
       "    }\n",
       "\n",
       "    .dataframe tbody tr th {\n",
       "        vertical-align: top;\n",
       "    }\n",
       "\n",
       "    .dataframe thead th {\n",
       "        text-align: right;\n",
       "    }\n",
       "</style>\n",
       "<table border=\"1\" class=\"dataframe\">\n",
       "  <thead>\n",
       "    <tr style=\"text-align: right;\">\n",
       "      <th></th>\n",
       "      <th>KNeighbors</th>\n",
       "      <th>DecisionTree</th>\n",
       "      <th>RandomForest</th>\n",
       "    </tr>\n",
       "  </thead>\n",
       "  <tbody>\n",
       "    <tr>\n",
       "      <th>Training Accuracy</th>\n",
       "      <td>1.000000</td>\n",
       "      <td>0.954102</td>\n",
       "      <td>0.999023</td>\n",
       "    </tr>\n",
       "    <tr>\n",
       "      <th>Test Accuracy</th>\n",
       "      <td>0.881664</td>\n",
       "      <td>0.834850</td>\n",
       "      <td>0.907672</td>\n",
       "    </tr>\n",
       "  </tbody>\n",
       "</table>\n",
       "</div>"
      ],
      "text/plain": [
       "                   KNeighbors  DecisionTree  RandomForest\n",
       "Training Accuracy    1.000000      0.954102      0.999023\n",
       "Test Accuracy        0.881664      0.834850      0.907672"
      ]
     },
     "execution_count": 9,
     "metadata": {},
     "output_type": "execute_result"
    }
   ],
   "source": [
    "results_df = pd.DataFrame(results)\n",
    "\n",
    "results_df_transposed = results_df.set_index(' ').T\n",
    "\n",
    "# Display the DataFrame\n",
    "results_df_transposed"
   ]
  },
  {
   "cell_type": "code",
   "execution_count": null,
   "id": "053579ad",
   "metadata": {},
   "outputs": [],
   "source": []
  }
 ],
 "metadata": {
  "kernelspec": {
   "display_name": "Python 3 (ipykernel)",
   "language": "python",
   "name": "python3"
  },
  "language_info": {
   "codemirror_mode": {
    "name": "ipython",
    "version": 3
   },
   "file_extension": ".py",
   "mimetype": "text/x-python",
   "name": "python",
   "nbconvert_exporter": "python",
   "pygments_lexer": "ipython3",
   "version": "3.11.4"
  }
 },
 "nbformat": 4,
 "nbformat_minor": 5
}
