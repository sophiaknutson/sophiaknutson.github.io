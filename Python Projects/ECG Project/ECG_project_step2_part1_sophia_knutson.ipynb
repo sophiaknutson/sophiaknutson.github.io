{
 "cells": [
  {
   "cell_type": "code",
   "execution_count": 3,
   "id": "c6f55e51",
   "metadata": {},
   "outputs": [],
   "source": [
    "import pandas as pd\n",
    "from sklearn.model_selection import train_test_split\n",
    "from sklearn.linear_model import LogisticRegression\n",
    "from sklearn.neighbors import KNeighborsClassifier\n",
    "from sklearn.tree import DecisionTreeClassifier\n",
    "from sklearn.ensemble import RandomForestClassifier\n",
    "from sklearn.metrics import accuracy_score\n",
    "import numpy as np"
   ]
  },
  {
   "cell_type": "code",
   "execution_count": 4,
   "id": "8a644cba",
   "metadata": {},
   "outputs": [],
   "source": [
    "X = pd.read_csv('ECG_dataX.csv')\n",
    "Y = pd.read_csv('ECG_dataY.csv')"
   ]
  },
  {
   "cell_type": "code",
   "execution_count": 5,
   "id": "a841da26",
   "metadata": {},
   "outputs": [
    {
     "data": {
      "text/plain": [
       "(3841, 187)"
      ]
     },
     "execution_count": 5,
     "metadata": {},
     "output_type": "execute_result"
    }
   ],
   "source": [
    "X=X.values\n",
    "X.shape "
   ]
  },
  {
   "cell_type": "code",
   "execution_count": 6,
   "id": "91555656",
   "metadata": {},
   "outputs": [
    {
     "data": {
      "text/plain": [
       "(3841, 1)"
      ]
     },
     "execution_count": 6,
     "metadata": {},
     "output_type": "execute_result"
    }
   ],
   "source": [
    "Y=Y.values\n",
    "Y.shape"
   ]
  },
  {
   "cell_type": "code",
   "execution_count": 7,
   "id": "0a15e699",
   "metadata": {},
   "outputs": [
    {
     "data": {
      "text/plain": [
       "((3072, 187), (3072,), (769, 187), (769,))"
      ]
     },
     "execution_count": 7,
     "metadata": {},
     "output_type": "execute_result"
    }
   ],
   "source": [
    "Y=Y.reshape(-1)\n",
    "Y.shape\n",
    "\n",
    "# Splitting the data\n",
    "X_train, X_test, Y_train, Y_test = train_test_split(X, Y, test_size=0.2, random_state=0)\n",
    "# Verifying the shapes of the splits\n",
    "X_train.shape, Y_train.shape, X_test.shape, Y_test.shape"
   ]
  },
  {
   "cell_type": "code",
   "execution_count": 8,
   "id": "d1c0c6be",
   "metadata": {},
   "outputs": [],
   "source": [
    "knn = KNeighborsClassifier()\n",
    "log_reg = LogisticRegression(solver='newton-cg')\n",
    "dt = DecisionTreeClassifier(random_state=0)\n",
    "rf = RandomForestClassifier(random_state=0)"
   ]
  },
  {
   "cell_type": "code",
   "execution_count": 9,
   "id": "82f384d0",
   "metadata": {},
   "outputs": [],
   "source": [
    "# List of classifiers for ease of iteration\n",
    "classifiers = [('KNeighbors', knn),\n",
    "               ('LogisticRegression', log_reg),\n",
    "               ('DecisionTree', dt),\n",
    "               ('RandomForest', rf)]\n",
    "\n",
    "# Prepare a dictionary to store accuracies\n",
    "accuracies = {\n",
    "    ' ': [],\n",
    "    'Training Accuracy': [],\n",
    "    'Test Accuracy': []\n",
    "}"
   ]
  },
  {
   "cell_type": "code",
   "execution_count": 10,
   "id": "6a54a30b",
   "metadata": {},
   "outputs": [],
   "source": [
    "for name, clf in classifiers:\n",
    "    clf.fit(X_train, Y_train)\n",
    "    train_accuracy = clf.score(X_train, Y_train)\n",
    "    test_accuracy = clf.score(X_test, Y_test)\n",
    "    # Append the accuracies to the dictionary\n",
    "    accuracies[' '].append(name)\n",
    "    accuracies['Training Accuracy'].append(train_accuracy)\n",
    "    accuracies['Test Accuracy'].append(test_accuracy)"
   ]
  },
  {
   "cell_type": "code",
   "execution_count": 11,
   "id": "a1d50422",
   "metadata": {},
   "outputs": [
    {
     "data": {
      "text/html": [
       "<div>\n",
       "<style scoped>\n",
       "    .dataframe tbody tr th:only-of-type {\n",
       "        vertical-align: middle;\n",
       "    }\n",
       "\n",
       "    .dataframe tbody tr th {\n",
       "        vertical-align: top;\n",
       "    }\n",
       "\n",
       "    .dataframe thead th {\n",
       "        text-align: right;\n",
       "    }\n",
       "</style>\n",
       "<table border=\"1\" class=\"dataframe\">\n",
       "  <thead>\n",
       "    <tr style=\"text-align: right;\">\n",
       "      <th></th>\n",
       "      <th>KNeighbors</th>\n",
       "      <th>LogisticRegression</th>\n",
       "      <th>DecisionTree</th>\n",
       "      <th>RandomForest</th>\n",
       "    </tr>\n",
       "  </thead>\n",
       "  <tbody>\n",
       "    <tr>\n",
       "      <th>Training Accuracy</th>\n",
       "      <td>0.880534</td>\n",
       "      <td>0.771484</td>\n",
       "      <td>1.000000</td>\n",
       "      <td>1.000000</td>\n",
       "    </tr>\n",
       "    <tr>\n",
       "      <th>Test Accuracy</th>\n",
       "      <td>0.881664</td>\n",
       "      <td>0.765930</td>\n",
       "      <td>0.843953</td>\n",
       "      <td>0.908973</td>\n",
       "    </tr>\n",
       "  </tbody>\n",
       "</table>\n",
       "</div>"
      ],
      "text/plain": [
       "                   KNeighbors  LogisticRegression  DecisionTree  RandomForest\n",
       "Training Accuracy    0.880534            0.771484      1.000000      1.000000\n",
       "Test Accuracy        0.881664            0.765930      0.843953      0.908973"
      ]
     },
     "execution_count": 11,
     "metadata": {},
     "output_type": "execute_result"
    }
   ],
   "source": [
    "# Convert the dictionary to a DataFrame\n",
    "accuracy_df = pd.DataFrame(accuracies)\n",
    "\n",
    "accuracy_df_transposed = accuracy_df.set_index(' ').T \n",
    "\n",
    "# Display the DataFrame\n",
    "accuracy_df_transposed"
   ]
  },
  {
   "cell_type": "code",
   "execution_count": null,
   "id": "2a95fc0a",
   "metadata": {},
   "outputs": [],
   "source": []
  }
 ],
 "metadata": {
  "kernelspec": {
   "display_name": "Python 3 (ipykernel)",
   "language": "python",
   "name": "python3"
  },
  "language_info": {
   "codemirror_mode": {
    "name": "ipython",
    "version": 3
   },
   "file_extension": ".py",
   "mimetype": "text/x-python",
   "name": "python",
   "nbconvert_exporter": "python",
   "pygments_lexer": "ipython3",
   "version": "3.11.4"
  }
 },
 "nbformat": 4,
 "nbformat_minor": 5
}
